{
 "cells": [
  {
   "cell_type": "code",
   "execution_count": 1,
   "metadata": {},
   "outputs": [],
   "source": [
    "import numpy as np\n",
    "import matplotlib.pyplot as plt\n",
    "import matplotlib as mpl\n",
    "import xlwt\n",
    "mpl.rcParams['font.sans-serif'] = ['KaiTi']\n",
    "mpl.rcParams['font.serif'] = ['KaiTi']"
   ]
  },
  {
   "cell_type": "code",
   "execution_count": 2,
   "metadata": {},
   "outputs": [],
   "source": [
    "def exponential_smoothing_1(alpha, data):\n",
    "    '''\n",
    "    一次指数平滑\n",
    "    :param alpha:  平滑系数\n",
    "    :param data:   数据序列：list\n",
    "    :return:       返回一次指数平滑值：list\n",
    "    '''\n",
    "    s_single=[]\n",
    "    s_single.append(data[0])\n",
    "    for i in range(1, len(data)):\n",
    "        s_single.append(alpha * data[i] + (1 - alpha) * s_single[i-1])\n",
    "    return s_single"
   ]
  },
  {
   "cell_type": "code",
   "execution_count": 3,
   "metadata": {},
   "outputs": [],
   "source": [
    "def exponential_smoothing_2(alpha, data):\n",
    "    '''\n",
    "    二次指数平滑\n",
    "    :param alpha:  平滑系数\n",
    "    :param data:   数据序列：list\n",
    "    :return:       返回二次指数平滑值,参数a, b：list\n",
    "    '''\n",
    "    s_single = exponential_smoothing_1(alpha, data)\n",
    "    s_double = exponential_smoothing_1(alpha, s_single)\n",
    "    a_double = [0 for i in range(len(data))]\n",
    "    b_double = [0 for i in range(len(data))]\n",
    "    F_double = [0 for i in range(len(data))]\n",
    "    for i in range(len(data)):\n",
    "        a = 2 * s_single[i] - s_double[i]\n",
    "        b = (alpha / (1 - alpha)) * (s_single[i] - s_double[i])\n",
    "        F = a + b\n",
    "        a_double[i] = a\n",
    "        b_double[i] = b\n",
    "        F_double[i] = F\n",
    "    return a_double,b_double,F_double"
   ]
  },
  {
   "cell_type": "code",
   "execution_count": 4,
   "metadata": {},
   "outputs": [],
   "source": [
    "def exponential_smoothing_3(alpha, data):\n",
    "    '''\n",
    "    三次指数平滑\n",
    "    :param alpha:  平滑系数\n",
    "    :param data:   数据序列：list\n",
    "    :return:       返回二次指数平滑值，参数a, b, c，预测值Ft+1：list\n",
    "    '''\n",
    "    s_single = exponential_smoothing_1(alpha, data)\n",
    "    s_double = exponential_smoothing_1(alpha, s_single)\n",
    "    s_triple = exponential_smoothing_1(alpha, s_double)\n",
    "    \n",
    "    a_triple = [0 for i in range(len(data))]\n",
    "    b_triple = [0 for i in range(len(data))]\n",
    "    c_triple = [0 for i in range(len(data))]\n",
    "    F_triple = [0 for i in range(len(data))]\n",
    "    for i in range(len(data)):\n",
    "        a = 3 * s_single[i] - 3 * s_double[i] + s_triple[i]\n",
    "        b = (alpha / (2 * ((1 - alpha) ** 2))) * ((6 - 5 * alpha) * s_single[i] - 2 * ((5 - 4 * alpha) * s_double[i]) + (4 - 3 * alpha) * s_triple[i])\n",
    "        c = ((alpha ** 2) / (2 * ((1 - alpha) ** 2))) * (s_single[i] - 2 * s_double[i] + s_triple[i])\n",
    "        F = a + b + c\n",
    "        a_triple[i] = a\n",
    "        b_triple[i] = b\n",
    "        c_triple[i] = c\n",
    "        F_triple[i] = F\n",
    "    return a_triple, b_triple, c_triple, F_triple"
   ]
  },
  {
   "cell_type": "code",
   "execution_count": 5,
   "metadata": {},
   "outputs": [],
   "source": [
    "def model_error_analysis(F, data):\n",
    "    '''\n",
    "    误差分析\n",
    "    :param F:     预测数列：list\n",
    "    :param data:  原始序列：list\n",
    "    :return:      返回各期绝对误差，相对误差：list，返回平均绝对误差和平均相对误差\n",
    "    '''\n",
    "    AE = [0 for i in range(len(data)-1)]\n",
    "    RE = []\n",
    "    AE_num = 0\n",
    "    RE_num = 0\n",
    "    for i in range(1,len(data)):\n",
    "        _AE = abs(F[i-1] - data[i])\n",
    "        _RE = _AE / data[i]\n",
    "        AE_num += _AE\n",
    "        RE_num += _RE\n",
    "        AE[i-1] = _AE\n",
    "        RE.append('{:.2f}%'.format(_RE*100))\n",
    "    MAE = AE_num / (len(data)-1)\n",
    "    MRE = '{:.2f}%'.format(RE_num *100 / (len(data)-1))\n",
    "    return AE, MAE, RE, MRE"
   ]
  },
  {
   "cell_type": "code",
   "execution_count": 6,
   "metadata": {},
   "outputs": [],
   "source": [
    "def alpha_analysis(data,itype=2):\n",
    "    '''\n",
    "    判断误差最小的平滑系数\n",
    "    :param data:   原始序列：list\n",
    "    :param itype:  平滑类型：1,2,3\n",
    "    :return:       返回平均绝对误差最小的平滑系数和最小平均绝对误差\n",
    "    '''\n",
    "    alpha_all = [0.01 * i for i in range(1,100)]  #只需要0.1-0.9修改为alpha_triple = [0.1 * i for i in range(1,10)]\n",
    "    best_alpha = 0\n",
    "    min_MAE = float('Inf') #  无穷大\n",
    "    if itype == 2:\n",
    "        for i in range(len(alpha_all)):\n",
    "            alpha = alpha_all[i]\n",
    "            a_double,b_double,F_double = exponential_smoothing_2(alpha, data)\n",
    "            AE_double, MAE_double, RE_double, MRE_double = model_error_analysis(F_double, data)\n",
    "            if MAE_double <= min_MAE:\n",
    "                min_MAE = MAE_double\n",
    "                best_alpha = alpha\n",
    "            else:\n",
    "                pass\n",
    "    elif itype == 3:\n",
    "        for i in range(len(alpha_all)):\n",
    "            alpha = alpha_all[i]\n",
    "            a_triple, b_triple, c_triple, F_triple = exponential_smoothing_3(alpha, data)\n",
    "            AE_triple, MAE_triple, RE_triple, MRE_triple = model_error_analysis(F_triple, data)\n",
    "            if MAE_triple <= min_MAE:\n",
    "                min_MAE = MAE_triple\n",
    "                best_alpha = alpha\n",
    "            else:\n",
    "                pass\n",
    "    else:\n",
    "        for i in range(len(alpha_all)):\n",
    "            alpha = alpha_all[i]\n",
    "            F_single = exponential_smoothing_1(alpha, data)\n",
    "            AE_single, MAE_single, RE_single, MRE_single = model_error_analysis(F_single, data)\n",
    "            if MAE_single <= min_MAE:\n",
    "                min_MAE = MAE_single\n",
    "                best_alpha = alpha\n",
    "            else:\n",
    "                pass\n",
    "    \n",
    "    return best_alpha, min_MAE"
   ]
  },
  {
   "cell_type": "code",
   "execution_count": 7,
   "metadata": {},
   "outputs": [],
   "source": [
    "def scatter_diagram(F, data, t):\n",
    "    '''\n",
    "    绘制散点图\n",
    "    :param F:     预测序列：list\n",
    "    :param data:  原始类型：list\n",
    "    :param t:     时间类型：list\n",
    "    '''\n",
    "    F = F[:-1:]\n",
    "    data = data[1::]\n",
    "    t = t[1::]\n",
    "    plt.title(\"散点图\",fontsize=20)  #图表名称\n",
    "    plt.xlabel(\"年份\", fontsize=12)  #改x坐标轴标题\n",
    "    plt.ylabel(\"货邮吞吐量（千吨）\", fontsize=12)  #改y坐标轴标题\n",
    "    plt.scatter(t, data, label='实际值',s=10)\n",
    "    plt.scatter(t, F, marker = 'x', label='预测值',s=10)\n",
    "    plt.legend()\n",
    "    plt.savefig('散点图.png', bbox_inches='tight',dpi = 300)\n",
    "    plt.show()"
   ]
  },
  {
   "cell_type": "code",
   "execution_count": 8,
   "metadata": {},
   "outputs": [],
   "source": [
    "def line_chart(F, data, t):\n",
    "    '''\n",
    "    绘制折现图\n",
    "    :param F:     预测序列：list\n",
    "    :param data:  原始类型：list\n",
    "    :param t:     时间类型：list\n",
    "    '''\n",
    "    F = F[:-1:]\n",
    "    data = data[1::]\n",
    "    t = t[1::]\n",
    "    plt.title(\"对比曲线\",fontsize=20)\n",
    "    plt.xlabel(\"年份\", fontsize=12)\n",
    "    plt.ylabel(\"货邮吞吐量（千吨）\", fontsize=12)\n",
    "    plt.plot(t, data, label='实际值')\n",
    "    plt.plot(t, F, label='预测值')\n",
    "    plt.legend()\n",
    "    plt.savefig('折线图.png', bbox_inches='tight',dpi = 300)\n",
    "    plt.show()"
   ]
  },
  {
   "cell_type": "code",
   "execution_count": 9,
   "metadata": {},
   "outputs": [],
   "source": [
    "def write_xls(alpha, data, t):\n",
    "    '''\n",
    "    写入表格\n",
    "    :param alpha:  平滑系数\n",
    "    :param data:   原始类型：list\n",
    "    :param t:      时间类型：list\n",
    "    '''\n",
    "    workbook = xlwt.Workbook()\n",
    "    worksheet_1 = workbook.add_sheet('二次指数平滑')\n",
    "    worksheet_2 = workbook.add_sheet('三次指数平滑')\n",
    "    \n",
    "    s_single = exponential_smoothing_1(alpha, data)\n",
    "    s_double = exponential_smoothing_1(alpha, s_single)\n",
    "    s_triple = exponential_smoothing_1(alpha, s_double)\n",
    "    \n",
    "    a_double,b_double,F_double = exponential_smoothing_2(alpha, data)\n",
    "    AE_double, MAE_double, RE_double, MRE_double = model_error_analysis(F_double, data)\n",
    "    title_1 = ['时间', 't', '实际值', '一次指数平滑值', '二次指数平滑值', 'a', 'b', 'F', '绝对误差', '相对误差']\n",
    "    col = 0\n",
    "    for w in title_1:\n",
    "        worksheet_1.write(0,col,w)\n",
    "        col += 1\n",
    "    worksheet_1.write(1,0,t[0])\n",
    "    worksheet_1.write(1,1,1)\n",
    "    worksheet_1.write(1,2,data[0])\n",
    "    worksheet_1.write(1,3,s_single[0])\n",
    "    worksheet_1.write(1,4,s_double[0])\n",
    "    worksheet_1.write(1,5,a_double[0])\n",
    "    worksheet_1.write(1,6,b_double[0])\n",
    "    row = 2\n",
    "    for i in range(1,len(data)):\n",
    "        worksheet_1.write(row,0,t[i])\n",
    "        worksheet_1.write(row,1,i+1)\n",
    "        worksheet_1.write(row,2,data[i])\n",
    "        worksheet_1.write(row,3,s_single[i])\n",
    "        worksheet_1.write(row,4,s_double[i])\n",
    "        worksheet_1.write(row,5,a_double[i])\n",
    "        worksheet_1.write(row,6,b_double[i])\n",
    "        worksheet_1.write(row,7,F_double[i-1])\n",
    "        worksheet_1.write(row,8,AE_double[i-1])\n",
    "        worksheet_1.write(row,9,RE_double[i-1])\n",
    "        row += 1\n",
    "    worksheet_1.write_merge(row, row, 0, 8, '平均绝对误差')\n",
    "    worksheet_1.write_merge(row + 1, row + 1, 0, 8, '平均相对误差')\n",
    "    worksheet_1.write(row,9,MAE_double)\n",
    "    worksheet_1.write(row + 1,9,MRE_double)\n",
    "    \n",
    "    \n",
    "    a_triple, b_triple, c_triple, F_triple = exponential_smoothing_3(alpha, data)\n",
    "    AE_triple, MAE_triple, RE_triple, MRE_triple = model_error_analysis(F_triple, data)\n",
    "    title_2 = ['时间', 't', '实际值', '一次指数平滑值', '二次指数平滑值', '三次指数平滑值', 'a', 'b', 'c', 'F', '绝对误差', '相对误差']\n",
    "    col = 0\n",
    "    for w in title_2:\n",
    "        worksheet_2.write(0,col,w)\n",
    "        col += 1\n",
    "    worksheet_2.write(1,0,t[0])\n",
    "    worksheet_2.write(1,1,1)\n",
    "    worksheet_2.write(1,2,data[0])\n",
    "    worksheet_2.write(1,3,s_single[0])\n",
    "    worksheet_2.write(1,4,s_double[0])\n",
    "    worksheet_2.write(1,5,s_triple[0])\n",
    "    worksheet_2.write(1,6,a_triple[0])\n",
    "    worksheet_2.write(1,7,b_triple[0])\n",
    "    worksheet_2.write(1,8,c_triple[0])\n",
    "    row = 2\n",
    "    for i in range(1,len(data)):\n",
    "        worksheet_2.write(row,0,t[i])\n",
    "        worksheet_2.write(row,1,i+1)\n",
    "        worksheet_2.write(row,2,data[i])\n",
    "        worksheet_2.write(row,3,s_single[i])\n",
    "        worksheet_2.write(row,4,s_double[i])\n",
    "        worksheet_2.write(row,5,s_triple[i])\n",
    "        worksheet_2.write(row,6,a_triple[i])\n",
    "        worksheet_2.write(row,7,b_triple[i])\n",
    "        worksheet_2.write(row,8,c_triple[i])\n",
    "        worksheet_2.write(row,9,F_triple[i-1])\n",
    "        worksheet_2.write(row,10,AE_triple[i-1])\n",
    "        worksheet_2.write(row,11,RE_triple[i-1])\n",
    "        row += 1\n",
    "    worksheet_2.write_merge(row, row, 0, 10, '平均绝对误差')\n",
    "    worksheet_2.write_merge(row + 1, row + 1, 0, 10, '平均相对误差')\n",
    "    worksheet_2.write(row, 11, MAE_triple)\n",
    "    worksheet_2.write(row + 1, 11, MRE_triple)\n",
    "    workbook.save('指数平滑预测.xls')"
   ]
  },
  {
   "cell_type": "markdown",
   "metadata": {},
   "source": [
    "## 使用方法\n",
    "\n",
    "定义数据和时间"
   ]
  },
  {
   "cell_type": "code",
   "execution_count": 10,
   "metadata": {},
   "outputs": [],
   "source": [
    "t = [2010,2011,2012,2013,2014,2015,2016,2017,2018,2019]\n",
    "data = [22.938,31.227,35.711,38.772,41.233,43.033,49.683,59.278,63.845,75.295]"
   ]
  },
  {
   "cell_type": "markdown",
   "metadata": {},
   "source": [
    "是否寻找平均绝对误差最小的平滑系数<br>itype取值为1,2,3，分别代表一次、二次、三次指数平滑<br>返回最优的平滑系数以及最小平均绝对误差"
   ]
  },
  {
   "cell_type": "code",
   "execution_count": 11,
   "metadata": {},
   "outputs": [
    {
     "data": {
      "text/plain": [
       "(0.99, 5.86330343864394)"
      ]
     },
     "execution_count": 11,
     "metadata": {},
     "output_type": "execute_result"
    }
   ],
   "source": [
    "alpha_analysis(data,itype=1)"
   ]
  },
  {
   "cell_type": "code",
   "execution_count": 12,
   "metadata": {},
   "outputs": [
    {
     "data": {
      "text/plain": [
       "(0.56, 3.3794655525358674)"
      ]
     },
     "execution_count": 12,
     "metadata": {},
     "output_type": "execute_result"
    }
   ],
   "source": [
    "alpha_analysis(data,itype=2)"
   ]
  },
  {
   "cell_type": "code",
   "execution_count": 13,
   "metadata": {},
   "outputs": [
    {
     "data": {
      "text/plain": [
       "(0.34, 3.3621142550224645)"
      ]
     },
     "execution_count": 13,
     "metadata": {},
     "output_type": "execute_result"
    }
   ],
   "source": [
    "alpha_analysis(data,itype=3)"
   ]
  },
  {
   "cell_type": "markdown",
   "metadata": {},
   "source": [
    "定义平滑系数，分别进行一次，二次，三次指数平滑<br>分别返回：<br>一次指数平滑值<br>二次指数平滑参数a,b及预测值F<br>三次指数平滑参数a,b,c及预测值F"
   ]
  },
  {
   "cell_type": "code",
   "execution_count": 14,
   "metadata": {},
   "outputs": [
    {
     "data": {
      "text/plain": [
       "[22.938,\n",
       " 27.9114,\n",
       " 32.59116,\n",
       " 36.299664,\n",
       " 39.2596656,\n",
       " 41.52366624,\n",
       " 46.419266496,\n",
       " 54.1345065984,\n",
       " 59.96080263936,\n",
       " 69.161321055744]"
      ]
     },
     "execution_count": 14,
     "metadata": {},
     "output_type": "execute_result"
    }
   ],
   "source": [
    "alpha = 0.6\n",
    "\n",
    "exponential_smoothing_1(alpha, data)"
   ]
  },
  {
   "cell_type": "code",
   "execution_count": 15,
   "metadata": {},
   "outputs": [
    {
     "data": {
      "text/plain": [
       "([22.938,\n",
       "  29.900760000000002,\n",
       "  35.258808,\n",
       "  38.850124799999996,\n",
       "  41.46385056,\n",
       "  43.31094048,\n",
       "  49.0924162944,\n",
       "  58.28986255872,\n",
       "  63.953463439871996,\n",
       "  74.4385927425024],\n",
       " [0.0,\n",
       "  2.9840400000000016,\n",
       "  4.001471999999999,\n",
       "  3.825691199999994,\n",
       "  3.3062774399999983,\n",
       "  2.6809113600000027,\n",
       "  4.009724697600006,\n",
       "  6.233033940480001,\n",
       "  5.988991200767997,\n",
       "  7.915907530137594],\n",
       " [22.938,\n",
       "  32.884800000000006,\n",
       "  39.26028,\n",
       "  42.67581599999999,\n",
       "  44.77012799999999,\n",
       "  45.99185184,\n",
       "  53.10214099200001,\n",
       "  64.5228964992,\n",
       "  69.94245464064,\n",
       "  82.35450027263998])"
      ]
     },
     "execution_count": 15,
     "metadata": {},
     "output_type": "execute_result"
    }
   ],
   "source": [
    "exponential_smoothing_2(alpha, data)"
   ]
  },
  {
   "cell_type": "code",
   "execution_count": 16,
   "metadata": {},
   "outputs": [
    {
     "data": {
      "text/plain": [
       "([22.938,\n",
       "  30.696503999999997,\n",
       "  35.8484208,\n",
       "  39.03909503999999,\n",
       "  41.40092831999999,\n",
       "  43.11900729600001,\n",
       "  49.369993244160014,\n",
       "  58.993775803392,\n",
       "  64.1699506738176,\n",
       "  75.03903199057918],\n",
       " [0.0,\n",
       "  6.266483999999973,\n",
       "  6.433624799999967,\n",
       "  4.60519343999997,\n",
       "  3.046723199999989,\n",
       "  1.8891869760000009,\n",
       "  5.154729615360027,\n",
       "  9.136676074752026,\n",
       "  6.882001040793558,\n",
       "  10.39271942845433],\n",
       " [0.0,\n",
       "  0.8952119999999988,\n",
       "  0.6633143999999972,\n",
       "  0.21259151999999565,\n",
       "  -0.07078751999999876,\n",
       "  -0.21592483199999174,\n",
       "  0.3122740684800122,\n",
       "  0.7919024002560019,\n",
       "  0.24354813818879956,\n",
       "  0.6754941540863956],\n",
       " [22.938,\n",
       "  37.85819999999997,\n",
       "  42.945359999999965,\n",
       "  43.85687999999996,\n",
       "  44.37686399999998,\n",
       "  44.79226944000001,\n",
       "  54.836996928000055,\n",
       "  68.92235427840004,\n",
       "  71.29549985279995,\n",
       "  86.1072455731199])"
      ]
     },
     "execution_count": 16,
     "metadata": {},
     "output_type": "execute_result"
    }
   ],
   "source": [
    "exponential_smoothing_3(alpha, data)"
   ]
  },
  {
   "cell_type": "markdown",
   "metadata": {},
   "source": [
    "误差分析,返回各期绝对误差、平均绝对误差、相对误差、平均相对误差"
   ]
  },
  {
   "cell_type": "code",
   "execution_count": 17,
   "metadata": {},
   "outputs": [
    {
     "data": {
      "text/plain": [
       "([8.289000000000001,\n",
       "  2.826199999999993,\n",
       "  0.48828000000000316,\n",
       "  1.4428159999999934,\n",
       "  1.7371279999999913,\n",
       "  3.6911481599999973,\n",
       "  6.175859007999989,\n",
       "  0.6778964992000027,\n",
       "  5.352545359360008],\n",
       " 3.408985891839998,\n",
       " ['26.54%',\n",
       "  '7.91%',\n",
       "  '1.26%',\n",
       "  '3.50%',\n",
       "  '4.04%',\n",
       "  '7.43%',\n",
       "  '10.42%',\n",
       "  '1.06%',\n",
       "  '7.11%'],\n",
       " '7.70%')"
      ]
     },
     "execution_count": 17,
     "metadata": {},
     "output_type": "execute_result"
    }
   ],
   "source": [
    "a,b,F = exponential_smoothing_2(alpha, data)\n",
    "model_error_analysis(F, data)"
   ]
  },
  {
   "cell_type": "markdown",
   "metadata": {},
   "source": [
    "输出二次、三次指数平滑结果到excel表"
   ]
  },
  {
   "cell_type": "code",
   "execution_count": 18,
   "metadata": {},
   "outputs": [],
   "source": [
    "write_xls(alpha, data, t)"
   ]
  },
  {
   "cell_type": "markdown",
   "metadata": {},
   "source": [
    "绘图，可输出折线图和散点图"
   ]
  },
  {
   "cell_type": "code",
   "execution_count": 19,
   "metadata": {},
   "outputs": [
    {
     "data": {
      "image/png": "[encoded data removed]",
      "text/plain": [
       "<Figure size 432x288 with 1 Axes>"
      ]
     },
     "metadata": {
      "needs_background": "light"
     },
     "output_type": "display_data"
    }
   ],
   "source": [
    "a_triple, b_triple, c_triple, F_triple = exponential_smoothing_3(alpha, data)\n",
    "line_chart(F_triple, data, t)"
   ]
  },
  {
   "cell_type": "code",
   "execution_count": 20,
   "metadata": {},
   "outputs": [
    {
     "data": {
      "image/png": "[encoded data removed]",
      "text/plain": [
       "<Figure size 432x288 with 1 Axes>"
      ]
     },
     "metadata": {
      "needs_background": "light"
     },
     "output_type": "display_data"
    }
   ],
   "source": [
    "a_double,b_double,F_double = exponential_smoothing_2(alpha, data)\n",
    "scatter_diagram(F_double, data, t)"
   ]
  },
  {
   "cell_type": "code",
   "execution_count": null,
   "metadata": {},
   "outputs": [],
   "source": []
  }
 ],
 "metadata": {
  "kernelspec": {
   "display_name": "Python 3",
   "language": "python",
   "name": "python3"
  },
  "language_info": {
   "codemirror_mode": {
    "name": "ipython",
    "version": 3
   },
   "file_extension": ".py",
   "mimetype": "text/x-python",
   "name": "python",
   "nbconvert_exporter": "python",
   "pygments_lexer": "ipython3",
   "version": "3.8.2"
  }
 },
 "nbformat": 4,
 "nbformat_minor": 4
}
